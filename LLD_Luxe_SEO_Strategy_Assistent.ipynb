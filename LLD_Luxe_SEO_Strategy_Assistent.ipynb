{
  "nbformat": 4,
  "nbformat_minor": 0,
  "metadata": {
    "colab": {
      "provenance": [],
      "authorship_tag": "ABX9TyPG0g0puMEykiaqvNzW9eLz",
      "include_colab_link": true
    },
    "kernelspec": {
      "name": "python3",
      "display_name": "Python 3"
    },
    "language_info": {
      "name": "python"
    }
  },
  "cells": [
    {
      "cell_type": "markdown",
      "metadata": {
        "id": "view-in-github",
        "colab_type": "text"
      },
      "source": [
        "<a href=\"https://colab.research.google.com/github/alessandrapagliai-jpg/content-calculator/blob/main/LLD_Luxe_SEO_Strategy_Assistent.ipynb\" target=\"_parent\"><img src=\"https://colab.research.google.com/assets/colab-badge.svg\" alt=\"Open In Colab\"/></a>"
      ]
    },
    {
      "cell_type": "code",
      "execution_count": null,
      "metadata": {
        "id": "pRQDgMufa_V8"
      },
      "outputs": [],
      "source": [
        "from dataclasses import dataclass\n",
        "from typing import Tuple, Dict"
      ]
    },
    {
      "cell_type": "code",
      "source": [
        "# @title LLD Luxe - SEO Strategy Assistent\n",
        "\n",
        "def parse_percentage(text):\n",
        "    \"\"\"Converte input tipo '45' o '45%' in float\"\"\"\n",
        "    value = text.strip().replace(\"%\", \"\")\n",
        "    return float(value)\n",
        "\n",
        "def compute_soc_tool():\n",
        "    # === INPUT ===\n",
        "    brand_name = input(\"Brand: \").strip()\n",
        "    territory = input(\"Territory: \").strip()\n",
        "    soc_brand = parse_percentage(input(\"Brand's SOC (%): \"))\n",
        "    soc_competitor = parse_percentage(input(\"1° Competitor Brand SOC (%): \"))\n",
        "    soc_publisher = parse_percentage(input(\"1° Publisher Competitor SOC (%): \"))\n",
        "    soc_eretailer = parse_percentage(input(\"1° eRetailer SOC(%): \"))\n",
        "\n",
        "    # === DIFFERENCES ===\n",
        "    diff_comp = abs(soc_brand - soc_competitor)\n",
        "    diff_pub = abs(soc_brand - soc_publisher)\n",
        "    diff_er = abs(soc_brand - soc_eretailer)\n",
        "    total_diff = diff_comp + diff_pub + diff_er\n",
        "\n",
        "    # === MATURITY & STRATEGY ===\n",
        "    if total_diff <= 10:\n",
        "        maturity, strategy, num_content = \"High\", \"Defend\", \"10–25\"\n",
        "    elif total_diff > 50:\n",
        "        maturity, strategy, num_content = \"Medium\", \"Growth\", \"25–50\"\n",
        "    else:\n",
        "        maturity, strategy, num_content = \"Low\", \"Attack\", \"50+\"\n",
        "\n",
        "    # === SPLIT ===\n",
        "    if total_diff == 0:\n",
        "        split_comp = split_pub = split_er = 0.0\n",
        "    else:\n",
        "        split_comp = 100 * diff_comp / total_diff\n",
        "        split_pub = 100 * diff_pub / total_diff\n",
        "        split_er = 100 * diff_er / total_diff\n",
        "\n",
        "    # === OUTPUT ===\n",
        "    print(\"\\n=== Results ===\")\n",
        "    print(f\"Brand: {brand_name} | Territory: {territory}\")\n",
        "    print(f\"Difference vs Competitor: {diff_comp:.1f}%\")\n",
        "    print(f\"Difference vs Publisher:  {diff_pub:.1f}%\")\n",
        "    print(f\"Difference vs eRetailer:  {diff_er:.1f}%\")\n",
        "    print(f\"Sum of Differences:       {total_diff:.1f}%\")\n",
        "\n",
        "    print(\"\\nMaturity Level:\", maturity)\n",
        "    print(\"Strategy:\", strategy)\n",
        "    print(\"Number of Content:\", num_content)\n",
        "\n",
        "    print(\"\\n=== Content Split ===\")\n",
        "    print(f\"PdP + Hub Page: {split_comp:.1f}%\")\n",
        "    print(f\"Article: {split_pub + split_er:.1f}%\")\n",
        "    #print(f\"Channel: eRetailer, Content Type: PdP, Content Split: {split_er:.1f}%\")\n",
        "\n",
        "\n",
        "# Run the tool\n",
        "compute_soc_tool()"
      ],
      "metadata": {
        "colab": {
          "base_uri": "https://localhost:8080/"
        },
        "id": "-RDj4sTjbNcj",
        "outputId": "a640b8df-286a-43c2-d833-867b01635ba9",
        "cellView": "form"
      },
      "execution_count": null,
      "outputs": [
        {
          "output_type": "stream",
          "name": "stdout",
          "text": [
            "Brand: Armani\n",
            "Territory: Foundations\n",
            "Brand's SOC (%): 0.04\n",
            "1° Competitor Brand SOC (%): 2.12\n",
            "1° Publisher Competitor SOC (%): 13.42\n",
            "1° eRetailer SOC(%): 6.79\n",
            "\n",
            "=== Results ===\n",
            "Brand: Armani | Territory: Foundations\n",
            "Difference vs Competitor: 2.1%\n",
            "Difference vs Publisher:  13.4%\n",
            "Difference vs eRetailer:  6.8%\n",
            "Sum of Differences:       22.2%\n",
            "\n",
            "Maturity Level: Low\n",
            "Strategy: Attack\n",
            "Number of Content: 50+\n",
            "\n",
            "=== Content Split ===\n",
            "PdP + Hub Page: 9.4%\n",
            "Article: 90.6%\n"
          ]
        }
      ]
    }
  ]
}